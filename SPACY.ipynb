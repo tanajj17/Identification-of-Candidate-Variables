{
  "nbformat": 4,
  "nbformat_minor": 0,
  "metadata": {
    "colab": {
      "name": "SPACY.ipynb",
      "provenance": []
    },
    "kernelspec": {
      "name": "python3",
      "display_name": "Python 3"
    },
    "language_info": {
      "name": "python"
    }
  },
  "cells": [
    {
      "cell_type": "code",
      "execution_count": 1,
      "metadata": {
        "colab": {
          "base_uri": "https://localhost:8080/"
        },
        "id": "eqghzmdDkoel",
        "outputId": "b1338e1b-837d-4442-abd2-be947ff9c715"
      },
      "outputs": [
        {
          "output_type": "stream",
          "name": "stdout",
          "text": [
            "/usr/local/lib/python3.7/dist-packages/gdown/cli.py:131: FutureWarning: Option `--id` was deprecated in version 4.3.1 and will be removed in 5.0. You don't need to pass it anymore to use a file ID.\n",
            "  category=FutureWarning,\n",
            "Downloading...\n",
            "From: https://drive.google.com/uc?id=1UtK6apAwWQqs88lHCKQzG55p3tn1smWZ\n",
            "To: /content/training_data.json\n",
            "100% 13.2k/13.2k [00:00<00:00, 17.4MB/s]\n"
          ]
        }
      ],
      "source": [
        "! gdown --id 1UtK6apAwWQqs88lHCKQzG55p3tn1smWZ"
      ]
    },
    {
      "cell_type": "code",
      "source": [
        "! gdown --id 1vFZFKCbq_3O9waKJ34Ezo8waflkjy1M9"
      ],
      "metadata": {
        "colab": {
          "base_uri": "https://localhost:8080/"
        },
        "id": "Wrh6dJSIkpmg",
        "outputId": "b53968a6-85f0-4630-ef4f-aa99813a2083"
      },
      "execution_count": 2,
      "outputs": [
        {
          "output_type": "stream",
          "name": "stdout",
          "text": [
            "/usr/local/lib/python3.7/dist-packages/gdown/cli.py:131: FutureWarning: Option `--id` was deprecated in version 4.3.1 and will be removed in 5.0. You don't need to pass it anymore to use a file ID.\n",
            "  category=FutureWarning,\n",
            "Downloading...\n",
            "From: https://drive.google.com/uc?id=1vFZFKCbq_3O9waKJ34Ezo8waflkjy1M9\n",
            "To: /content/validation_data.json\n",
            "100% 25.3k/25.3k [00:00<00:00, 32.1MB/s]\n"
          ]
        }
      ]
    },
    {
      "cell_type": "code",
      "source": [
        "! gdown --id 102A-iQdVDuG7C612Kwh66nKsYldQ_8Iq"
      ],
      "metadata": {
        "colab": {
          "base_uri": "https://localhost:8080/"
        },
        "id": "AtqmxGo8krY3",
        "outputId": "ed814262-bdc9-4555-ab31-7fcd63bcf70e"
      },
      "execution_count": 3,
      "outputs": [
        {
          "output_type": "stream",
          "name": "stdout",
          "text": [
            "/usr/local/lib/python3.7/dist-packages/gdown/cli.py:131: FutureWarning: Option `--id` was deprecated in version 4.3.1 and will be removed in 5.0. You don't need to pass it anymore to use a file ID.\n",
            "  category=FutureWarning,\n",
            "Downloading...\n",
            "From: https://drive.google.com/uc?id=102A-iQdVDuG7C612Kwh66nKsYldQ_8Iq\n",
            "To: /content/test_data.json\n",
            "100% 8.83k/8.83k [00:00<00:00, 12.8MB/s]\n"
          ]
        }
      ]
    },
    {
      "cell_type": "code",
      "source": [
        "! pip install -U spacy"
      ],
      "metadata": {
        "colab": {
          "base_uri": "https://localhost:8080/"
        },
        "id": "EQ9s1J44ktic",
        "outputId": "7f4af9b0-1ebd-44fd-82d4-1edd7790bd19"
      },
      "execution_count": 4,
      "outputs": [
        {
          "output_type": "stream",
          "name": "stdout",
          "text": [
            "Requirement already satisfied: spacy in /usr/local/lib/python3.7/dist-packages (2.2.4)\n",
            "Collecting spacy\n",
            "  Downloading spacy-3.3.0-cp37-cp37m-manylinux_2_17_x86_64.manylinux2014_x86_64.whl (6.2 MB)\n",
            "\u001b[K     |████████████████████████████████| 6.2 MB 7.4 MB/s \n",
            "\u001b[?25hRequirement already satisfied: packaging>=20.0 in /usr/local/lib/python3.7/dist-packages (from spacy) (21.3)\n",
            "Requirement already satisfied: cymem<2.1.0,>=2.0.2 in /usr/local/lib/python3.7/dist-packages (from spacy) (2.0.6)\n",
            "Collecting pydantic!=1.8,!=1.8.1,<1.9.0,>=1.7.4\n",
            "  Downloading pydantic-1.8.2-cp37-cp37m-manylinux2014_x86_64.whl (10.1 MB)\n",
            "\u001b[K     |████████████████████████████████| 10.1 MB 40.1 MB/s \n",
            "\u001b[?25hRequirement already satisfied: wasabi<1.1.0,>=0.9.1 in /usr/local/lib/python3.7/dist-packages (from spacy) (0.9.1)\n",
            "Collecting catalogue<2.1.0,>=2.0.6\n",
            "  Downloading catalogue-2.0.7-py3-none-any.whl (17 kB)\n",
            "Requirement already satisfied: tqdm<5.0.0,>=4.38.0 in /usr/local/lib/python3.7/dist-packages (from spacy) (4.64.0)\n",
            "Requirement already satisfied: requests<3.0.0,>=2.13.0 in /usr/local/lib/python3.7/dist-packages (from spacy) (2.23.0)\n",
            "Requirement already satisfied: setuptools in /usr/local/lib/python3.7/dist-packages (from spacy) (57.4.0)\n",
            "Collecting pathy>=0.3.5\n",
            "  Downloading pathy-0.6.1-py3-none-any.whl (42 kB)\n",
            "\u001b[K     |████████████████████████████████| 42 kB 1.1 MB/s \n",
            "\u001b[?25hCollecting spacy-legacy<3.1.0,>=3.0.9\n",
            "  Downloading spacy_legacy-3.0.9-py2.py3-none-any.whl (20 kB)\n",
            "Collecting typing-extensions<4.0.0.0,>=3.7.4\n",
            "  Downloading typing_extensions-3.10.0.2-py3-none-any.whl (26 kB)\n",
            "Requirement already satisfied: murmurhash<1.1.0,>=0.28.0 in /usr/local/lib/python3.7/dist-packages (from spacy) (1.0.7)\n",
            "Collecting typer<0.5.0,>=0.3.0\n",
            "  Downloading typer-0.4.1-py3-none-any.whl (27 kB)\n",
            "Requirement already satisfied: preshed<3.1.0,>=3.0.2 in /usr/local/lib/python3.7/dist-packages (from spacy) (3.0.6)\n",
            "Collecting thinc<8.1.0,>=8.0.14\n",
            "  Downloading thinc-8.0.15-cp37-cp37m-manylinux_2_17_x86_64.manylinux2014_x86_64.whl (653 kB)\n",
            "\u001b[K     |████████████████████████████████| 653 kB 44.5 MB/s \n",
            "\u001b[?25hRequirement already satisfied: numpy>=1.15.0 in /usr/local/lib/python3.7/dist-packages (from spacy) (1.21.6)\n",
            "Collecting spacy-loggers<2.0.0,>=1.0.0\n",
            "  Downloading spacy_loggers-1.0.2-py3-none-any.whl (7.2 kB)\n",
            "Requirement already satisfied: jinja2 in /usr/local/lib/python3.7/dist-packages (from spacy) (2.11.3)\n",
            "Collecting srsly<3.0.0,>=2.4.3\n",
            "  Downloading srsly-2.4.3-cp37-cp37m-manylinux_2_17_x86_64.manylinux2014_x86_64.whl (457 kB)\n",
            "\u001b[K     |████████████████████████████████| 457 kB 48.8 MB/s \n",
            "\u001b[?25hRequirement already satisfied: blis<0.8.0,>=0.4.0 in /usr/local/lib/python3.7/dist-packages (from spacy) (0.4.1)\n",
            "Collecting langcodes<4.0.0,>=3.2.0\n",
            "  Downloading langcodes-3.3.0-py3-none-any.whl (181 kB)\n",
            "\u001b[K     |████████████████████████████████| 181 kB 58.9 MB/s \n",
            "\u001b[?25hRequirement already satisfied: zipp>=0.5 in /usr/local/lib/python3.7/dist-packages (from catalogue<2.1.0,>=2.0.6->spacy) (3.8.0)\n",
            "Requirement already satisfied: pyparsing!=3.0.5,>=2.0.2 in /usr/local/lib/python3.7/dist-packages (from packaging>=20.0->spacy) (3.0.8)\n",
            "Collecting smart-open<6.0.0,>=5.0.0\n",
            "  Downloading smart_open-5.2.1-py3-none-any.whl (58 kB)\n",
            "\u001b[K     |████████████████████████████████| 58 kB 5.2 MB/s \n",
            "\u001b[?25hRequirement already satisfied: certifi>=2017.4.17 in /usr/local/lib/python3.7/dist-packages (from requests<3.0.0,>=2.13.0->spacy) (2021.10.8)\n",
            "Requirement already satisfied: idna<3,>=2.5 in /usr/local/lib/python3.7/dist-packages (from requests<3.0.0,>=2.13.0->spacy) (2.10)\n",
            "Requirement already satisfied: chardet<4,>=3.0.2 in /usr/local/lib/python3.7/dist-packages (from requests<3.0.0,>=2.13.0->spacy) (3.0.4)\n",
            "Requirement already satisfied: urllib3!=1.25.0,!=1.25.1,<1.26,>=1.21.1 in /usr/local/lib/python3.7/dist-packages (from requests<3.0.0,>=2.13.0->spacy) (1.24.3)\n",
            "Requirement already satisfied: click<9.0.0,>=7.1.1 in /usr/local/lib/python3.7/dist-packages (from typer<0.5.0,>=0.3.0->spacy) (7.1.2)\n",
            "Requirement already satisfied: MarkupSafe>=0.23 in /usr/local/lib/python3.7/dist-packages (from jinja2->spacy) (2.0.1)\n",
            "Installing collected packages: typing-extensions, catalogue, typer, srsly, smart-open, pydantic, thinc, spacy-loggers, spacy-legacy, pathy, langcodes, spacy\n",
            "  Attempting uninstall: typing-extensions\n",
            "    Found existing installation: typing-extensions 4.2.0\n",
            "    Uninstalling typing-extensions-4.2.0:\n",
            "      Successfully uninstalled typing-extensions-4.2.0\n",
            "  Attempting uninstall: catalogue\n",
            "    Found existing installation: catalogue 1.0.0\n",
            "    Uninstalling catalogue-1.0.0:\n",
            "      Successfully uninstalled catalogue-1.0.0\n",
            "  Attempting uninstall: srsly\n",
            "    Found existing installation: srsly 1.0.5\n",
            "    Uninstalling srsly-1.0.5:\n",
            "      Successfully uninstalled srsly-1.0.5\n",
            "  Attempting uninstall: smart-open\n",
            "    Found existing installation: smart-open 6.0.0\n",
            "    Uninstalling smart-open-6.0.0:\n",
            "      Successfully uninstalled smart-open-6.0.0\n",
            "  Attempting uninstall: thinc\n",
            "    Found existing installation: thinc 7.4.0\n",
            "    Uninstalling thinc-7.4.0:\n",
            "      Successfully uninstalled thinc-7.4.0\n",
            "  Attempting uninstall: spacy\n",
            "    Found existing installation: spacy 2.2.4\n",
            "    Uninstalling spacy-2.2.4:\n",
            "      Successfully uninstalled spacy-2.2.4\n",
            "\u001b[31mERROR: pip's dependency resolver does not currently take into account all the packages that are installed. This behaviour is the source of the following dependency conflicts.\n",
            "tensorflow 2.8.0 requires tf-estimator-nightly==2.8.0.dev2021122109, which is not installed.\u001b[0m\n",
            "Successfully installed catalogue-2.0.7 langcodes-3.3.0 pathy-0.6.1 pydantic-1.8.2 smart-open-5.2.1 spacy-3.3.0 spacy-legacy-3.0.9 spacy-loggers-1.0.2 srsly-2.4.3 thinc-8.0.15 typer-0.4.1 typing-extensions-3.10.0.2\n"
          ]
        }
      ]
    },
    {
      "cell_type": "code",
      "source": [
        "! python -m spacy info"
      ],
      "metadata": {
        "colab": {
          "base_uri": "https://localhost:8080/"
        },
        "id": "HuS02cVHkvb1",
        "outputId": "56360ea4-b256-411d-a2e3-f6544c8b90de"
      },
      "execution_count": 5,
      "outputs": [
        {
          "output_type": "stream",
          "name": "stdout",
          "text": [
            "\u001b[1m\n",
            "============================== Info about spaCy ==============================\u001b[0m\n",
            "\n",
            "spaCy version    3.3.0                         \n",
            "Location         /usr/local/lib/python3.7/dist-packages/spacy\n",
            "Platform         Linux-5.4.188+-x86_64-with-Ubuntu-18.04-bionic\n",
            "Python version   3.7.13                        \n",
            "Pipelines                                      \n",
            "\n"
          ]
        }
      ]
    },
    {
      "cell_type": "code",
      "source": [
        "import spacy\n",
        "from spacy.tokens import DocBin\n",
        "from tqdm import tqdm\n",
        "\n",
        "nlp = spacy.blank(\"en\") # load a new spacy model\n",
        "db = DocBin() # create a DocBin object"
      ],
      "metadata": {
        "id": "r6Zhilyuk2Bf"
      },
      "execution_count": 6,
      "outputs": []
    },
    {
      "cell_type": "code",
      "source": [
        "import json\n",
        "f = open('training_data.json')\n",
        "TRAIN_DATA = json.load(f)"
      ],
      "metadata": {
        "id": "-QIqhZMnk4_z"
      },
      "execution_count": 7,
      "outputs": []
    },
    {
      "cell_type": "code",
      "source": [
        "import json\n",
        "f = open('validation_data.json')\n",
        "VALIDATION_DATA = json.load(f)"
      ],
      "metadata": {
        "id": "gdfcKO_4k7DS"
      },
      "execution_count": 8,
      "outputs": []
    },
    {
      "cell_type": "code",
      "source": [
        "import json\n",
        "f = open('test_data.json')\n",
        "TEST_DATA = json.load(f)"
      ],
      "metadata": {
        "id": "Uwd9bKHsk8-V"
      },
      "execution_count": 9,
      "outputs": []
    },
    {
      "cell_type": "code",
      "source": [
        "for text, annot in tqdm(TRAIN_DATA['annotations']): \n",
        "    doc = nlp.make_doc(text) \n",
        "    ents = []\n",
        "    for start, end, label in annot[\"entities\"]:\n",
        "        span = doc.char_span(start, end, label=label, alignment_mode=\"contract\")\n",
        "        if span is None:\n",
        "            print(\"Skipping entity\")\n",
        "        else:\n",
        "            ents.append(span)\n",
        "    doc.ents = ents \n",
        "    db.add(doc)\n",
        "\n",
        "db.to_disk(\"./training_data.spacy\") # save the docbin object"
      ],
      "metadata": {
        "colab": {
          "base_uri": "https://localhost:8080/"
        },
        "id": "gNAoZQfuk_Wr",
        "outputId": "eca1a0e7-b662-447b-e878-255d45f97ed2"
      },
      "execution_count": 10,
      "outputs": [
        {
          "output_type": "stream",
          "name": "stderr",
          "text": [
            "100%|██████████| 25/25 [00:00<00:00, 372.53it/s]\n"
          ]
        }
      ]
    },
    {
      "cell_type": "code",
      "source": [
        "for text, annot in tqdm(TRAIN_DATA['annotations']): \n",
        "    doc = nlp.make_doc(text) \n",
        "    ents = []\n",
        "    for start, end, label in annot[\"entities\"]:\n",
        "        span = doc.char_span(start, end, label=label, alignment_mode=\"contract\")\n",
        "        if span is None:\n",
        "            print(\"Skipping entity\")\n",
        "        else:\n",
        "            ents.append(span)\n",
        "    doc.ents = ents \n",
        "    db.add(doc)\n",
        "    db.to_disk(\"./validation_data.spacy\") # save the docbin object"
      ],
      "metadata": {
        "colab": {
          "base_uri": "https://localhost:8080/"
        },
        "id": "7TC7qr6tlBwb",
        "outputId": "654231ca-b98d-450a-da4a-76102552cc20"
      },
      "execution_count": 11,
      "outputs": [
        {
          "output_type": "stream",
          "name": "stderr",
          "text": [
            "100%|██████████| 25/25 [00:00<00:00, 115.83it/s]\n"
          ]
        }
      ]
    },
    {
      "cell_type": "code",
      "source": [
        "for text, annot in tqdm(TEST_DATA['annotations']): \n",
        "    doc = nlp.make_doc(text) \n",
        "    ents = []\n",
        "    for start, end, label in annot[\"entities\"]:\n",
        "        span = doc.char_span(start, end, label=label, alignment_mode=\"contract\")\n",
        "        if span is None:\n",
        "            print(\"Skipping entity\")\n",
        "        else:\n",
        "            ents.append(span)\n",
        "    doc.ents = ents \n",
        "    db.add(doc)\n",
        "    db.to_disk(\"./test_data.spacy\") # save the docbin object"
      ],
      "metadata": {
        "colab": {
          "base_uri": "https://localhost:8080/"
        },
        "id": "zWYGYJ9BlE2A",
        "outputId": "2b44de20-8439-4744-8185-a18ba6b0089e"
      },
      "execution_count": 12,
      "outputs": [
        {
          "output_type": "stream",
          "name": "stderr",
          "text": [
            "100%|██████████| 26/26 [00:00<00:00, 69.41it/s]\n"
          ]
        }
      ]
    },
    {
      "cell_type": "code",
      "source": [
        "!python -m spacy init config config.cfg --lang en --pipeline ner --optimize efficiency"
      ],
      "metadata": {
        "colab": {
          "base_uri": "https://localhost:8080/"
        },
        "id": "oFj-MIsDlWkr",
        "outputId": "dba50fe6-2c48-4f07-909e-cd478c042755"
      },
      "execution_count": 13,
      "outputs": [
        {
          "output_type": "stream",
          "name": "stdout",
          "text": [
            "\u001b[38;5;3m⚠ To generate a more effective transformer-based config (GPU-only),\n",
            "install the spacy-transformers package and re-run this command. The config\n",
            "generated now does not use transformers.\u001b[0m\n",
            "\u001b[38;5;4mℹ Generated config template specific for your use case\u001b[0m\n",
            "- Language: en\n",
            "- Pipeline: ner\n",
            "- Optimize for: efficiency\n",
            "- Hardware: CPU\n",
            "- Transformer: None\n",
            "\u001b[38;5;2m✔ Auto-filled config with all values\u001b[0m\n",
            "\u001b[38;5;2m✔ Saved config\u001b[0m\n",
            "config.cfg\n",
            "You can now add your data and train your pipeline:\n",
            "python -m spacy train config.cfg --paths.train ./train.spacy --paths.dev ./dev.spacy\n"
          ]
        }
      ]
    },
    {
      "cell_type": "code",
      "source": [
        "!python -m spacy train config.cfg --output ./ --paths.train ./training_data.spacy --paths.dev ./validation_data.spacy"
      ],
      "metadata": {
        "colab": {
          "base_uri": "https://localhost:8080/"
        },
        "id": "IobzW3MOlHDG",
        "outputId": "a99d3288-f0ed-434f-c975-279941c94d20"
      },
      "execution_count": 14,
      "outputs": [
        {
          "output_type": "stream",
          "name": "stdout",
          "text": [
            "\u001b[38;5;4mℹ Saving to output directory: .\u001b[0m\n",
            "\u001b[38;5;4mℹ Using CPU\u001b[0m\n",
            "\u001b[1m\n",
            "=========================== Initializing pipeline ===========================\u001b[0m\n",
            "[2022-04-30 10:25:12,511] [INFO] Set up nlp object from config\n",
            "[2022-04-30 10:25:12,523] [INFO] Pipeline: ['tok2vec', 'ner']\n",
            "[2022-04-30 10:25:12,532] [INFO] Created vocabulary\n",
            "[2022-04-30 10:25:12,533] [INFO] Finished initializing nlp object\n",
            "[2022-04-30 10:25:12,754] [INFO] Initialized pipeline components: ['tok2vec', 'ner']\n",
            "\u001b[38;5;2m✔ Initialized pipeline\u001b[0m\n",
            "\u001b[1m\n",
            "============================= Training pipeline =============================\u001b[0m\n",
            "\u001b[38;5;4mℹ Pipeline: ['tok2vec', 'ner']\u001b[0m\n",
            "\u001b[38;5;4mℹ Initial learn rate: 0.001\u001b[0m\n",
            "E    #       LOSS TOK2VEC  LOSS NER  ENTS_F  ENTS_P  ENTS_R  SCORE \n",
            "---  ------  ------------  --------  ------  ------  ------  ------\n",
            "  0       0          0.00     41.17    6.45    5.03    8.99    0.06\n",
            " 11     200         86.31   1720.56   99.72  100.00   99.44    1.00\n",
            " 26     400        103.39     82.25   99.72   99.44  100.00    1.00\n",
            " 44     600         63.00     60.49   99.72   99.44  100.00    1.00\n",
            " 68     800         80.18     69.71   99.72   99.44  100.00    1.00\n",
            " 98    1000         62.71     72.55   99.72   99.44  100.00    1.00\n",
            "135    1200         24.29     62.33   99.72  100.00   99.44    1.00\n",
            "182    1400         38.64     74.15   99.72  100.00   99.44    1.00\n",
            "237    1600         37.78     83.66   99.72  100.00   99.44    1.00\n",
            "304    1800         54.15    100.37   99.72  100.00   99.44    1.00\n",
            "389    2000         79.94    123.70   99.72  100.00   99.44    1.00\n",
            "\u001b[38;5;2m✔ Saved pipeline to output directory\u001b[0m\n",
            "model-last\n"
          ]
        }
      ]
    },
    {
      "cell_type": "code",
      "source": [
        "!python -m spacy evaluate ./model-best ./test_data.spacy --output ./result.json"
      ],
      "metadata": {
        "colab": {
          "base_uri": "https://localhost:8080/"
        },
        "id": "kMMePZlrlMkF",
        "outputId": "cc431fae-f511-4312-c1eb-ea4e0674142f"
      },
      "execution_count": 15,
      "outputs": [
        {
          "output_type": "stream",
          "name": "stdout",
          "text": [
            "\u001b[38;5;4mℹ Using CPU\u001b[0m\n",
            "\u001b[1m\n",
            "================================== Results ==================================\u001b[0m\n",
            "\n",
            "TOK     100.00\n",
            "NER P   85.35 \n",
            "NER R   77.39 \n",
            "NER F   81.18 \n",
            "SPEED   24104 \n",
            "\n",
            "\u001b[1m\n",
            "=============================== NER (per type) ===============================\u001b[0m\n",
            "\n",
            "                        P       R       F\n",
            "CANDIDATEVARIABLE   85.35   77.39   81.18\n",
            "\n",
            "\u001b[38;5;2m✔ Saved results to result.json\u001b[0m\n"
          ]
        }
      ]
    },
    {
      "cell_type": "code",
      "source": [
        "nlp = spacy.load(\"./model-best\")"
      ],
      "metadata": {
        "id": "hEpg0cHjmELy"
      },
      "execution_count": 16,
      "outputs": []
    },
    {
      "cell_type": "code",
      "source": [
        "docs = TEST_DATA\n"
      ],
      "metadata": {
        "id": "1-UaML2TyXb5"
      },
      "execution_count": 17,
      "outputs": []
    },
    {
      "cell_type": "code",
      "source": [
        "from spacy.training import offsets_to_biluo_tags\n",
        "def get_cleaned_label(label: str):\n",
        "    if \"-\" in label:\n",
        "        return label.split(\"-\")[1]\n",
        "    else:\n",
        "        return label\n",
        "    \n",
        "def create_total_target_vector(docs):\n",
        "    target_vector = []\n",
        "    for doc in docs['annotations']:\n",
        "        print (doc)\n",
        "        new = nlp.make_doc(doc[0])\n",
        "        entities = doc[1][\"entities\"]\n",
        "        bilou_entities = offsets_to_biluo_tags(new, entities)\n",
        "        final = []\n",
        "        for item in bilou_entities:\n",
        "            final.append(get_cleaned_label(item))\n",
        "        target_vector.extend(final)\n",
        "    return target_vector\n",
        "\n",
        "def create_prediction_vector(text):\n",
        "      return [get_cleaned_label(prediction) for prediction in get_all_ner_predictions(text)]\n",
        "\n",
        "def create_total_prediction_vector(docs: list):\n",
        "    prediction_vector = []\n",
        "    for doc in docs['annotations']:\n",
        "        prediction_vector.extend(create_prediction_vector(doc[0]))\n",
        "    return prediction_vector\n",
        "\n",
        "def get_all_ner_predictions(text):\n",
        "    doc = nlp(text)\n",
        "    entities = [(e.start_char, e.end_char, e.label_) for e in doc.ents]\n",
        "    bilou_entities = offsets_to_biluo_tags(doc, entities)\n",
        "    return bilou_entities"
      ],
      "metadata": {
        "id": "gFKWtckU1pra"
      },
      "execution_count": 18,
      "outputs": []
    },
    {
      "cell_type": "code",
      "source": [
        "def get_model_labels():\n",
        "    labels = list(nlp.get_pipe(\"ner\").labels)\n",
        "    labels.append(\"O\")\n",
        "    return sorted(labels)\n",
        "def get_dataset_labels():\n",
        "    return sorted(set(create_total_target_vector(docs)))"
      ],
      "metadata": {
        "id": "MQ-Maamy1pER"
      },
      "execution_count": 19,
      "outputs": []
    },
    {
      "cell_type": "code",
      "source": [
        "from sklearn.metrics import confusion_matrix\n",
        "\n",
        "def generate_confusion_matrix(docs): \n",
        "    classes = sorted(set(create_total_target_vector(docs)))\n",
        "    y_true = create_total_target_vector(docs)\n",
        "    y_pred = create_total_prediction_vector(docs)\n",
        "    print (y_true)\n",
        "    print (y_pred)\n",
        "    return confusion_matrix(y_true, y_pred)"
      ],
      "metadata": {
        "id": "Ds6yHdCQ1wCQ"
      },
      "execution_count": 20,
      "outputs": []
    },
    {
      "cell_type": "code",
      "source": [
        "from matplotlib import pyplot\n",
        "import numpy\n",
        "\n",
        "def plot_confusion_matrix(docs, classes, normalize=False, cmap=pyplot.cm.Blues):\n",
        "    \"\"\"\n",
        "    This function prints and plots the confusion matrix.\n",
        "    Normalization can be applied by setting `normalize=True`.\n",
        "    \"\"\"\n",
        "   \n",
        "    title = 'Confusion Matrix, for SpaCy NER'\n",
        "\n",
        "    # Compute confusion matrix\n",
        "    cm = generate_confusion_matrix(docs)\n",
        "    if normalize:\n",
        "        cm = cm.astype('float') / cm.sum(axis=1)[:, numpy.newaxis]\n",
        "\n",
        "    fig, ax = pyplot.subplots()\n",
        "    im = ax.imshow(cm, interpolation='nearest', cmap=cmap)\n",
        "    ax.figure.colorbar(im, ax=ax)\n",
        "    # We want to show all ticks...\n",
        "    ax.set(xticks=numpy.arange(cm.shape[1]),\n",
        "           yticks=numpy.arange(cm.shape[0]),\n",
        "           # ... and label them with the respective list entries\n",
        "           xticklabels=classes, yticklabels=classes,\n",
        "           title=title,\n",
        "           ylabel='True label',\n",
        "           xlabel='Predicted label')\n",
        "\n",
        "    # Rotate the tick labels and set their alignment.\n",
        "    pyplot.setp(ax.get_xticklabels(), rotation=45, ha=\"right\", rotation_mode=\"anchor\")\n",
        "\n",
        "    # Loop over data dimensions and create text annotations.\n",
        "    fmt = '.2f' if normalize else 'd'\n",
        "    thresh = cm.max() / 2.\n",
        "    for i in range(cm.shape[0]):\n",
        "        for j in range(cm.shape[1]):\n",
        "            ax.text(j, i, format(cm[i, j], fmt),\n",
        "                    ha=\"center\", va=\"center\",\n",
        "                    color=\"white\" if cm[i, j] > thresh else \"black\")\n",
        "    fig.tight_layout()\n",
        "    print(f'ACCURACY: {(cm[0][0] + cm [1][1]) / (cm[0][0] + cm[0][1] + cm[1][0] + cm[1][1]) * 100}%')\n",
        "    return cm, ax, pyplot"
      ],
      "metadata": {
        "id": "7Ed8mmAl1ycX"
      },
      "execution_count": 21,
      "outputs": []
    },
    {
      "cell_type": "code",
      "source": [
        "plot_confusion_matrix(docs,classes=get_dataset_labels(),normalize=False)"
      ],
      "metadata": {
        "colab": {
          "base_uri": "https://localhost:8080/",
          "height": 1000
        },
        "id": "h3TKoWCU10NA",
        "outputId": "1cf57122-d563-470e-aa23-b4f8013b085c"
      },
      "execution_count": 22,
      "outputs": [
        {
          "output_type": "stream",
          "name": "stdout",
          "text": [
            "['Of the eight deceased, five were male and three were female.\\r', {'entities': [[13, 21, 'CANDIDATEVARIABLE'], [33, 37, 'CANDIDATEVARIABLE'], [53, 59, 'CANDIDATEVARIABLE']]}]\n",
            "['Of the eight deceased, five were male and three were female.\\r', {'entities': [[13, 21, 'CANDIDATEVARIABLE'], [33, 37, 'CANDIDATEVARIABLE'], [53, 59, 'CANDIDATEVARIABLE']]}]\n",
            "['At least 897 new infections were recorded and four people died from Covid-19 in 24 hours till 8:00 am today.\\r', {'entities': [[17, 27, 'CANDIDATEVARIABLE'], [33, 41, 'CANDIDATEVARIABLE'], [51, 57, 'CANDIDATEVARIABLE']]}]\n",
            "['A total of 21,543 samples were tested across the country in the 24 hours.\\r', {'entities': [[18, 25, 'CANDIDATEVARIABLE'], [49, 56, 'CANDIDATEVARIABLE'], [67, 72, 'CANDIDATEVARIABLE']]}]\n",
            "['Djokovic was deported on the eve of the Australian Open in January and on Monday lost his number one ranking to Russian Daniil Medvedev.\\r', {'entities': [[90, 96, 'CANDIDATEVARIABLE'], [101, 108, 'CANDIDATEVARIABLE']]}]\n",
            "['Bangladesh became the largest recipient of US vaccines worldwide, with more than 61 million doses. Foreign minister thanked the US government on behalf of the people of Bangladesh for supporting Bangladesh in the time of Covid-19 pandemic.\\r', {'entities': [[30, 39, 'CANDIDATEVARIABLE'], [46, 54, 'CANDIDATEVARIABLE'], [84, 91, 'CANDIDATEVARIABLE'], [92, 98, 'CANDIDATEVARIABLE'], [159, 165, 'CANDIDATEVARIABLE'], [213, 217, 'CANDIDATEVARIABLE']]}]\n",
            "['The HC bench on January 23 directed the cellular mobile telecom operators to ensure crystal clear voice call quality.\\r', {'entities': [[40, 48, 'CANDIDATEVARIABLE'], [49, 55, 'CANDIDATEVARIABLE'], [64, 73, 'CANDIDATEVARIABLE'], [98, 103, 'CANDIDATEVARIABLE'], [104, 108, 'CANDIDATEVARIABLE']]}]\n",
            "[\"Cyabra's analysts tracked thousands of Facebook and Twitter accounts that had recently posted about Ukraine.\\r\", {'entities': [[9, 17, 'CANDIDATEVARIABLE'], [26, 35, 'CANDIDATEVARIABLE'], [60, 68, 'CANDIDATEVARIABLE']]}]\n",
            "['The couple have four children ranging in age from 2 to 8.\\r', {'entities': [[21, 29, 'CANDIDATEVARIABLE'], [30, 37, 'CANDIDATEVARIABLE'], [41, 44, 'CANDIDATEVARIABLE']]}]\n",
            "['On Friday Ukrainian officials reported that all troops stationed on the strategic Snake Island had been killed after defiantly refusing Russian demands to surrender.\\r', {'entities': [[20, 29, 'CANDIDATEVARIABLE'], [48, 54, 'CANDIDATEVARIABLE'], [144, 151, 'CANDIDATEVARIABLE']]}]\n",
            "['The High Court today wanted to know the steps taken to stop call drops, disruptions, extra charging from mobile phone subscribers and low quality of voice calls and internet service.\\r', {'entities': [[60, 70, 'CANDIDATEVARIABLE'], [72, 83, 'CANDIDATEVARIABLE'], [85, 99, 'CANDIDATEVARIABLE'], [118, 129, 'CANDIDATEVARIABLE'], [149, 160, 'CANDIDATEVARIABLE']]}]\n",
            "['While sustainability and carbon net-neutrality in civil aviation is a ways away and current approaches have their challenges, the industry is making significant commitments and investments to achieve this goal by the century’s midpoint.\\r', {'entities': [[114, 124, 'CANDIDATEVARIABLE'], [130, 138, 'CANDIDATEVARIABLE'], [161, 172, 'CANDIDATEVARIABLE'], [177, 188, 'CANDIDATEVARIABLE']]}]\n",
            "['Often rural families’ parents encourage early marriage out of fear that the dowry price will increase as their daughter ages.\\r', {'entities': [[12, 21, 'CANDIDATEVARIABLE'], [22, 29, 'CANDIDATEVARIABLE'], [82, 87, 'CANDIDATEVARIABLE'], [93, 101, 'CANDIDATEVARIABLE'], [120, 124, 'CANDIDATEVARIABLE']]}]\n",
            "['With factories at the epicenter of battles and employees living in bomb shelters, Ukrainian entrepreneurs are contributing to the war effort while trying to save their businesses and employees.\\r', {'entities': [[5, 14, 'CANDIDATEVARIABLE'], [35, 42, 'CANDIDATEVARIABLE'], [47, 56, 'CANDIDATEVARIABLE'], [92, 105, 'CANDIDATEVARIABLE'], [110, 122, 'CANDIDATEVARIABLE'], [168, 178, 'CANDIDATEVARIABLE'], [183, 192, 'CANDIDATEVARIABLE']]}]\n",
            "['It is a relatively easy and inexpensive process to establish a sole proprietorship. There are also tax benefits, as income is considered the owner’s personal income and therefore only taxed once.\\r', {'entities': [[28, 39, 'CANDIDATEVARIABLE'], [99, 102, 'CANDIDATEVARIABLE'], [116, 122, 'CANDIDATEVARIABLE'], [158, 168, 'CANDIDATEVARIABLE'], [184, 189, 'CANDIDATEVARIABLE']]}]\n",
            "['For the tablecloth, you should pick a linen of your preferred colour. Along with solid colours, you can also go for prints. Floral prints with beautiful stripes look very elegant.\\r', {'entities': [[62, 69, 'CANDIDATEVARIABLE'], [87, 94, 'CANDIDATEVARIABLE'], [116, 123, 'CANDIDATEVARIABLE'], [131, 137, 'CANDIDATEVARIABLE']]}]\n",
            "[\"Pledging to further expand the relations between the two countries by identifying new areas of potential, the ambassador also requested to import Bangladesh's medicines, leather products, frozen fisheries, electric products used for household purposes.\\r\", {'entities': [[57, 66, 'CANDIDATEVARIABLE'], [159, 168, 'CANDIDATEVARIABLE'], [170, 186, 'CANDIDATEVARIABLE'], [195, 204, 'CANDIDATEVARIABLE'], [206, 223, 'CANDIDATEVARIABLE']]}]\n",
            "['It is needed to modify the legislation relating to the age of marriage. But there is a need to law and policy that adopt a  rights-based perspective and  with conformity with international  principles.\\r', {'entities': [[55, 58, 'CANDIDATEVARIABLE'], [103, 109, 'CANDIDATEVARIABLE'], [190, 200, 'CANDIDATEVARIABLE']]}]\n",
            "['Too many families marry their daughters simply because early marriage is the only option they know. But poverty is one of the most frequently cited factors behind child  marriage in Bangladesh. Extreme poverty, girls are often regarded as an economic burden and uncertainty about the future to their families.\\r', {'entities': [[9, 17, 'CANDIDATEVARIABLE'], [30, 39, 'CANDIDATEVARIABLE'], [148, 155, 'CANDIDATEVARIABLE'], [211, 216, 'CANDIDATEVARIABLE'], [242, 250, 'CANDIDATEVARIABLE'], [300, 308, 'CANDIDATEVARIABLE']]}]\n",
            "['To estimate the impact of a particular factor on life expectancy, researchers quantify the likelihood of dying from diseases related to that factor at different ages in a population and calculate a \"risk-deleted\" life expectancy that is, the length of life that would be expected if the factor were absent.\\r', {'entities': [[3, 11, 'CANDIDATEVARIABLE'], [39, 45, 'CANDIDATEVARIABLE'], [49, 64, 'CANDIDATEVARIABLE'], [66, 77, 'CANDIDATEVARIABLE'], [116, 124, 'CANDIDATEVARIABLE'], [161, 165, 'CANDIDATEVARIABLE'], [171, 181, 'CANDIDATEVARIABLE'], [213, 228, 'CANDIDATEVARIABLE'], [242, 248, 'CANDIDATEVARIABLE'], [287, 293, 'CANDIDATEVARIABLE']]}]\n",
            "['The Blue Guards, after collecting plastics and discarded fishing nets from coastal waters and beaches, dispose of those materials by via the local plastic recycling system or by storing them in a safer place.\\r', {'entities': [[34, 42, 'CANDIDATEVARIABLE'], [57, 69, 'CANDIDATEVARIABLE'], [94, 101, 'CANDIDATEVARIABLE'], [147, 154, 'CANDIDATEVARIABLE']]}]\n",
            "['While French car parts maker Valeo said the direct impact on the company is minimal, the invasion could drag down industry production volumes, and hike energy or raw material prices.\\r', {'entities': [[13, 28, 'CANDIDATEVARIABLE'], [65, 72, 'CANDIDATEVARIABLE'], [114, 122, 'CANDIDATEVARIABLE'], [123, 133, 'CANDIDATEVARIABLE'], [134, 141, 'CANDIDATEVARIABLE'], [175, 181, 'CANDIDATEVARIABLE']]}]\n",
            "['Using data derived from customer comments, the AI creates profiles for each user and determines what socio-economic class they might belong to based on the regular pricing options of their availed services.\\r', {'entities': [[24, 41, 'CANDIDATEVARIABLE'], [58, 66, 'CANDIDATEVARIABLE'], [76, 80, 'CANDIDATEVARIABLE'], [116, 121, 'CANDIDATEVARIABLE'], [164, 171, 'CANDIDATEVARIABLE'], [172, 179, 'CANDIDATEVARIABLE']]}]\n",
            "[\"At the same time, employees who already struggle with feelings of ostracisation may feel worse. For the managers, lack of information and communication from their subordinates can make them feel like they're losing control.\\r\", {'entities': [[12, 16, 'CANDIDATEVARIABLE'], [18, 27, 'CANDIDATEVARIABLE'], [54, 62, 'CANDIDATEVARIABLE'], [84, 88, 'CANDIDATEVARIABLE'], [104, 112, 'CANDIDATEVARIABLE'], [122, 133, 'CANDIDATEVARIABLE'], [138, 151, 'CANDIDATEVARIABLE'], [163, 175, 'CANDIDATEVARIABLE'], [190, 194, 'CANDIDATEVARIABLE']]}]\n",
            "[\"A company is built by its people. Therefore, it is integral to ask their opinion if they're ready to embrace this change. Much weight has to be given to HR too. Surveys, polls, and honest communication are necessary before implementing any strategy.\\r\", {'entities': [[2, 9, 'CANDIDATEVARIABLE'], [26, 33, 'CANDIDATEVARIABLE'], [73, 80, 'CANDIDATEVARIABLE'], [127, 133, 'CANDIDATEVARIABLE'], [161, 168, 'CANDIDATEVARIABLE'], [170, 175, 'CANDIDATEVARIABLE'], [240, 248, 'CANDIDATEVARIABLE']]}]\n",
            "['The museum allows visitors to have an immersive experience as they venture through the heritage sites of Bangladesh with virtual reality headsets and computers from the comfort of their homes.', {'entities': [[4, 10, 'CANDIDATEVARIABLE'], [18, 26, 'CANDIDATEVARIABLE'], [87, 101, 'CANDIDATEVARIABLE'], [137, 145, 'CANDIDATEVARIABLE'], [150, 159, 'CANDIDATEVARIABLE'], [186, 191, 'CANDIDATEVARIABLE']]}]\n",
            "['Of the eight deceased, five were male and three were female.\\r', {'entities': [[13, 21, 'CANDIDATEVARIABLE'], [33, 37, 'CANDIDATEVARIABLE'], [53, 59, 'CANDIDATEVARIABLE']]}]\n",
            "['Of the eight deceased, five were male and three were female.\\r', {'entities': [[13, 21, 'CANDIDATEVARIABLE'], [33, 37, 'CANDIDATEVARIABLE'], [53, 59, 'CANDIDATEVARIABLE']]}]\n",
            "['At least 897 new infections were recorded and four people died from Covid-19 in 24 hours till 8:00 am today.\\r', {'entities': [[17, 27, 'CANDIDATEVARIABLE'], [33, 41, 'CANDIDATEVARIABLE'], [51, 57, 'CANDIDATEVARIABLE']]}]\n",
            "['A total of 21,543 samples were tested across the country in the 24 hours.\\r', {'entities': [[18, 25, 'CANDIDATEVARIABLE'], [49, 56, 'CANDIDATEVARIABLE'], [67, 72, 'CANDIDATEVARIABLE']]}]\n",
            "['Djokovic was deported on the eve of the Australian Open in January and on Monday lost his number one ranking to Russian Daniil Medvedev.\\r', {'entities': [[90, 96, 'CANDIDATEVARIABLE'], [101, 108, 'CANDIDATEVARIABLE']]}]\n",
            "['Bangladesh became the largest recipient of US vaccines worldwide, with more than 61 million doses. Foreign minister thanked the US government on behalf of the people of Bangladesh for supporting Bangladesh in the time of Covid-19 pandemic.\\r', {'entities': [[30, 39, 'CANDIDATEVARIABLE'], [46, 54, 'CANDIDATEVARIABLE'], [84, 91, 'CANDIDATEVARIABLE'], [92, 98, 'CANDIDATEVARIABLE'], [159, 165, 'CANDIDATEVARIABLE'], [213, 217, 'CANDIDATEVARIABLE']]}]\n",
            "['The HC bench on January 23 directed the cellular mobile telecom operators to ensure crystal clear voice call quality.\\r', {'entities': [[40, 48, 'CANDIDATEVARIABLE'], [49, 55, 'CANDIDATEVARIABLE'], [64, 73, 'CANDIDATEVARIABLE'], [98, 103, 'CANDIDATEVARIABLE'], [104, 108, 'CANDIDATEVARIABLE']]}]\n",
            "[\"Cyabra's analysts tracked thousands of Facebook and Twitter accounts that had recently posted about Ukraine.\\r\", {'entities': [[9, 17, 'CANDIDATEVARIABLE'], [26, 35, 'CANDIDATEVARIABLE'], [60, 68, 'CANDIDATEVARIABLE']]}]\n",
            "['The couple have four children ranging in age from 2 to 8.\\r', {'entities': [[21, 29, 'CANDIDATEVARIABLE'], [30, 37, 'CANDIDATEVARIABLE'], [41, 44, 'CANDIDATEVARIABLE']]}]\n",
            "['On Friday Ukrainian officials reported that all troops stationed on the strategic Snake Island had been killed after defiantly refusing Russian demands to surrender.\\r', {'entities': [[20, 29, 'CANDIDATEVARIABLE'], [48, 54, 'CANDIDATEVARIABLE'], [144, 151, 'CANDIDATEVARIABLE']]}]\n",
            "['The High Court today wanted to know the steps taken to stop call drops, disruptions, extra charging from mobile phone subscribers and low quality of voice calls and internet service.\\r', {'entities': [[60, 70, 'CANDIDATEVARIABLE'], [72, 83, 'CANDIDATEVARIABLE'], [85, 99, 'CANDIDATEVARIABLE'], [118, 129, 'CANDIDATEVARIABLE'], [149, 160, 'CANDIDATEVARIABLE']]}]\n",
            "['While sustainability and carbon net-neutrality in civil aviation is a ways away and current approaches have their challenges, the industry is making significant commitments and investments to achieve this goal by the century’s midpoint.\\r', {'entities': [[114, 124, 'CANDIDATEVARIABLE'], [130, 138, 'CANDIDATEVARIABLE'], [161, 172, 'CANDIDATEVARIABLE'], [177, 188, 'CANDIDATEVARIABLE']]}]\n",
            "['Often rural families’ parents encourage early marriage out of fear that the dowry price will increase as their daughter ages.\\r', {'entities': [[12, 21, 'CANDIDATEVARIABLE'], [22, 29, 'CANDIDATEVARIABLE'], [82, 87, 'CANDIDATEVARIABLE'], [93, 101, 'CANDIDATEVARIABLE'], [120, 124, 'CANDIDATEVARIABLE']]}]\n",
            "['With factories at the epicenter of battles and employees living in bomb shelters, Ukrainian entrepreneurs are contributing to the war effort while trying to save their businesses and employees.\\r', {'entities': [[5, 14, 'CANDIDATEVARIABLE'], [35, 42, 'CANDIDATEVARIABLE'], [47, 56, 'CANDIDATEVARIABLE'], [92, 105, 'CANDIDATEVARIABLE'], [110, 122, 'CANDIDATEVARIABLE'], [168, 178, 'CANDIDATEVARIABLE'], [183, 192, 'CANDIDATEVARIABLE']]}]\n",
            "['It is a relatively easy and inexpensive process to establish a sole proprietorship. There are also tax benefits, as income is considered the owner’s personal income and therefore only taxed once.\\r', {'entities': [[28, 39, 'CANDIDATEVARIABLE'], [99, 102, 'CANDIDATEVARIABLE'], [116, 122, 'CANDIDATEVARIABLE'], [158, 168, 'CANDIDATEVARIABLE'], [184, 189, 'CANDIDATEVARIABLE']]}]\n",
            "['For the tablecloth, you should pick a linen of your preferred colour. Along with solid colours, you can also go for prints. Floral prints with beautiful stripes look very elegant.\\r', {'entities': [[62, 69, 'CANDIDATEVARIABLE'], [87, 94, 'CANDIDATEVARIABLE'], [116, 123, 'CANDIDATEVARIABLE'], [131, 137, 'CANDIDATEVARIABLE']]}]\n",
            "[\"Pledging to further expand the relations between the two countries by identifying new areas of potential, the ambassador also requested to import Bangladesh's medicines, leather products, frozen fisheries, electric products used for household purposes.\\r\", {'entities': [[57, 66, 'CANDIDATEVARIABLE'], [159, 168, 'CANDIDATEVARIABLE'], [170, 186, 'CANDIDATEVARIABLE'], [195, 204, 'CANDIDATEVARIABLE'], [206, 223, 'CANDIDATEVARIABLE']]}]\n",
            "['It is needed to modify the legislation relating to the age of marriage. But there is a need to law and policy that adopt a  rights-based perspective and  with conformity with international  principles.\\r', {'entities': [[55, 58, 'CANDIDATEVARIABLE'], [103, 109, 'CANDIDATEVARIABLE'], [190, 200, 'CANDIDATEVARIABLE']]}]\n",
            "['Too many families marry their daughters simply because early marriage is the only option they know. But poverty is one of the most frequently cited factors behind child  marriage in Bangladesh. Extreme poverty, girls are often regarded as an economic burden and uncertainty about the future to their families.\\r', {'entities': [[9, 17, 'CANDIDATEVARIABLE'], [30, 39, 'CANDIDATEVARIABLE'], [148, 155, 'CANDIDATEVARIABLE'], [211, 216, 'CANDIDATEVARIABLE'], [242, 250, 'CANDIDATEVARIABLE'], [300, 308, 'CANDIDATEVARIABLE']]}]\n",
            "['To estimate the impact of a particular factor on life expectancy, researchers quantify the likelihood of dying from diseases related to that factor at different ages in a population and calculate a \"risk-deleted\" life expectancy that is, the length of life that would be expected if the factor were absent.\\r', {'entities': [[3, 11, 'CANDIDATEVARIABLE'], [39, 45, 'CANDIDATEVARIABLE'], [49, 64, 'CANDIDATEVARIABLE'], [66, 77, 'CANDIDATEVARIABLE'], [116, 124, 'CANDIDATEVARIABLE'], [161, 165, 'CANDIDATEVARIABLE'], [171, 181, 'CANDIDATEVARIABLE'], [213, 228, 'CANDIDATEVARIABLE'], [242, 248, 'CANDIDATEVARIABLE'], [287, 293, 'CANDIDATEVARIABLE']]}]\n",
            "['The Blue Guards, after collecting plastics and discarded fishing nets from coastal waters and beaches, dispose of those materials by via the local plastic recycling system or by storing them in a safer place.\\r', {'entities': [[34, 42, 'CANDIDATEVARIABLE'], [57, 69, 'CANDIDATEVARIABLE'], [94, 101, 'CANDIDATEVARIABLE'], [147, 154, 'CANDIDATEVARIABLE']]}]\n",
            "['While French car parts maker Valeo said the direct impact on the company is minimal, the invasion could drag down industry production volumes, and hike energy or raw material prices.\\r', {'entities': [[13, 28, 'CANDIDATEVARIABLE'], [65, 72, 'CANDIDATEVARIABLE'], [114, 122, 'CANDIDATEVARIABLE'], [123, 133, 'CANDIDATEVARIABLE'], [134, 141, 'CANDIDATEVARIABLE'], [175, 181, 'CANDIDATEVARIABLE']]}]\n",
            "['Using data derived from customer comments, the AI creates profiles for each user and determines what socio-economic class they might belong to based on the regular pricing options of their availed services.\\r', {'entities': [[24, 41, 'CANDIDATEVARIABLE'], [58, 66, 'CANDIDATEVARIABLE'], [76, 80, 'CANDIDATEVARIABLE'], [116, 121, 'CANDIDATEVARIABLE'], [164, 171, 'CANDIDATEVARIABLE'], [172, 179, 'CANDIDATEVARIABLE']]}]\n",
            "[\"At the same time, employees who already struggle with feelings of ostracisation may feel worse. For the managers, lack of information and communication from their subordinates can make them feel like they're losing control.\\r\", {'entities': [[12, 16, 'CANDIDATEVARIABLE'], [18, 27, 'CANDIDATEVARIABLE'], [54, 62, 'CANDIDATEVARIABLE'], [84, 88, 'CANDIDATEVARIABLE'], [104, 112, 'CANDIDATEVARIABLE'], [122, 133, 'CANDIDATEVARIABLE'], [138, 151, 'CANDIDATEVARIABLE'], [163, 175, 'CANDIDATEVARIABLE'], [190, 194, 'CANDIDATEVARIABLE']]}]\n",
            "[\"A company is built by its people. Therefore, it is integral to ask their opinion if they're ready to embrace this change. Much weight has to be given to HR too. Surveys, polls, and honest communication are necessary before implementing any strategy.\\r\", {'entities': [[2, 9, 'CANDIDATEVARIABLE'], [26, 33, 'CANDIDATEVARIABLE'], [73, 80, 'CANDIDATEVARIABLE'], [127, 133, 'CANDIDATEVARIABLE'], [161, 168, 'CANDIDATEVARIABLE'], [170, 175, 'CANDIDATEVARIABLE'], [240, 248, 'CANDIDATEVARIABLE']]}]\n",
            "['The museum allows visitors to have an immersive experience as they venture through the heritage sites of Bangladesh with virtual reality headsets and computers from the comfort of their homes.', {'entities': [[4, 10, 'CANDIDATEVARIABLE'], [18, 26, 'CANDIDATEVARIABLE'], [87, 101, 'CANDIDATEVARIABLE'], [137, 145, 'CANDIDATEVARIABLE'], [150, 159, 'CANDIDATEVARIABLE'], [186, 191, 'CANDIDATEVARIABLE']]}]\n",
            "['Of the eight deceased, five were male and three were female.\\r', {'entities': [[13, 21, 'CANDIDATEVARIABLE'], [33, 37, 'CANDIDATEVARIABLE'], [53, 59, 'CANDIDATEVARIABLE']]}]\n",
            "['Of the eight deceased, five were male and three were female.\\r', {'entities': [[13, 21, 'CANDIDATEVARIABLE'], [33, 37, 'CANDIDATEVARIABLE'], [53, 59, 'CANDIDATEVARIABLE']]}]\n",
            "['At least 897 new infections were recorded and four people died from Covid-19 in 24 hours till 8:00 am today.\\r', {'entities': [[17, 27, 'CANDIDATEVARIABLE'], [33, 41, 'CANDIDATEVARIABLE'], [51, 57, 'CANDIDATEVARIABLE']]}]\n",
            "['A total of 21,543 samples were tested across the country in the 24 hours.\\r', {'entities': [[18, 25, 'CANDIDATEVARIABLE'], [49, 56, 'CANDIDATEVARIABLE'], [67, 72, 'CANDIDATEVARIABLE']]}]\n",
            "['Djokovic was deported on the eve of the Australian Open in January and on Monday lost his number one ranking to Russian Daniil Medvedev.\\r', {'entities': [[90, 96, 'CANDIDATEVARIABLE'], [101, 108, 'CANDIDATEVARIABLE']]}]\n",
            "['Bangladesh became the largest recipient of US vaccines worldwide, with more than 61 million doses. Foreign minister thanked the US government on behalf of the people of Bangladesh for supporting Bangladesh in the time of Covid-19 pandemic.\\r', {'entities': [[30, 39, 'CANDIDATEVARIABLE'], [46, 54, 'CANDIDATEVARIABLE'], [84, 91, 'CANDIDATEVARIABLE'], [92, 98, 'CANDIDATEVARIABLE'], [159, 165, 'CANDIDATEVARIABLE'], [213, 217, 'CANDIDATEVARIABLE']]}]\n",
            "['The HC bench on January 23 directed the cellular mobile telecom operators to ensure crystal clear voice call quality.\\r', {'entities': [[40, 48, 'CANDIDATEVARIABLE'], [49, 55, 'CANDIDATEVARIABLE'], [64, 73, 'CANDIDATEVARIABLE'], [98, 103, 'CANDIDATEVARIABLE'], [104, 108, 'CANDIDATEVARIABLE']]}]\n",
            "[\"Cyabra's analysts tracked thousands of Facebook and Twitter accounts that had recently posted about Ukraine.\\r\", {'entities': [[9, 17, 'CANDIDATEVARIABLE'], [26, 35, 'CANDIDATEVARIABLE'], [60, 68, 'CANDIDATEVARIABLE']]}]\n",
            "['The couple have four children ranging in age from 2 to 8.\\r', {'entities': [[21, 29, 'CANDIDATEVARIABLE'], [30, 37, 'CANDIDATEVARIABLE'], [41, 44, 'CANDIDATEVARIABLE']]}]\n",
            "['On Friday Ukrainian officials reported that all troops stationed on the strategic Snake Island had been killed after defiantly refusing Russian demands to surrender.\\r', {'entities': [[20, 29, 'CANDIDATEVARIABLE'], [48, 54, 'CANDIDATEVARIABLE'], [144, 151, 'CANDIDATEVARIABLE']]}]\n",
            "['The High Court today wanted to know the steps taken to stop call drops, disruptions, extra charging from mobile phone subscribers and low quality of voice calls and internet service.\\r', {'entities': [[60, 70, 'CANDIDATEVARIABLE'], [72, 83, 'CANDIDATEVARIABLE'], [85, 99, 'CANDIDATEVARIABLE'], [118, 129, 'CANDIDATEVARIABLE'], [149, 160, 'CANDIDATEVARIABLE']]}]\n",
            "['While sustainability and carbon net-neutrality in civil aviation is a ways away and current approaches have their challenges, the industry is making significant commitments and investments to achieve this goal by the century’s midpoint.\\r', {'entities': [[114, 124, 'CANDIDATEVARIABLE'], [130, 138, 'CANDIDATEVARIABLE'], [161, 172, 'CANDIDATEVARIABLE'], [177, 188, 'CANDIDATEVARIABLE']]}]\n",
            "['Often rural families’ parents encourage early marriage out of fear that the dowry price will increase as their daughter ages.\\r', {'entities': [[12, 21, 'CANDIDATEVARIABLE'], [22, 29, 'CANDIDATEVARIABLE'], [82, 87, 'CANDIDATEVARIABLE'], [93, 101, 'CANDIDATEVARIABLE'], [120, 124, 'CANDIDATEVARIABLE']]}]\n",
            "['With factories at the epicenter of battles and employees living in bomb shelters, Ukrainian entrepreneurs are contributing to the war effort while trying to save their businesses and employees.\\r', {'entities': [[5, 14, 'CANDIDATEVARIABLE'], [35, 42, 'CANDIDATEVARIABLE'], [47, 56, 'CANDIDATEVARIABLE'], [92, 105, 'CANDIDATEVARIABLE'], [110, 122, 'CANDIDATEVARIABLE'], [168, 178, 'CANDIDATEVARIABLE'], [183, 192, 'CANDIDATEVARIABLE']]}]\n",
            "['It is a relatively easy and inexpensive process to establish a sole proprietorship. There are also tax benefits, as income is considered the owner’s personal income and therefore only taxed once.\\r', {'entities': [[28, 39, 'CANDIDATEVARIABLE'], [99, 102, 'CANDIDATEVARIABLE'], [116, 122, 'CANDIDATEVARIABLE'], [158, 168, 'CANDIDATEVARIABLE'], [184, 189, 'CANDIDATEVARIABLE']]}]\n",
            "['For the tablecloth, you should pick a linen of your preferred colour. Along with solid colours, you can also go for prints. Floral prints with beautiful stripes look very elegant.\\r', {'entities': [[62, 69, 'CANDIDATEVARIABLE'], [87, 94, 'CANDIDATEVARIABLE'], [116, 123, 'CANDIDATEVARIABLE'], [131, 137, 'CANDIDATEVARIABLE']]}]\n",
            "[\"Pledging to further expand the relations between the two countries by identifying new areas of potential, the ambassador also requested to import Bangladesh's medicines, leather products, frozen fisheries, electric products used for household purposes.\\r\", {'entities': [[57, 66, 'CANDIDATEVARIABLE'], [159, 168, 'CANDIDATEVARIABLE'], [170, 186, 'CANDIDATEVARIABLE'], [195, 204, 'CANDIDATEVARIABLE'], [206, 223, 'CANDIDATEVARIABLE']]}]\n",
            "['It is needed to modify the legislation relating to the age of marriage. But there is a need to law and policy that adopt a  rights-based perspective and  with conformity with international  principles.\\r', {'entities': [[55, 58, 'CANDIDATEVARIABLE'], [103, 109, 'CANDIDATEVARIABLE'], [190, 200, 'CANDIDATEVARIABLE']]}]\n",
            "['Too many families marry their daughters simply because early marriage is the only option they know. But poverty is one of the most frequently cited factors behind child  marriage in Bangladesh. Extreme poverty, girls are often regarded as an economic burden and uncertainty about the future to their families.\\r', {'entities': [[9, 17, 'CANDIDATEVARIABLE'], [30, 39, 'CANDIDATEVARIABLE'], [148, 155, 'CANDIDATEVARIABLE'], [211, 216, 'CANDIDATEVARIABLE'], [242, 250, 'CANDIDATEVARIABLE'], [300, 308, 'CANDIDATEVARIABLE']]}]\n",
            "['To estimate the impact of a particular factor on life expectancy, researchers quantify the likelihood of dying from diseases related to that factor at different ages in a population and calculate a \"risk-deleted\" life expectancy that is, the length of life that would be expected if the factor were absent.\\r', {'entities': [[3, 11, 'CANDIDATEVARIABLE'], [39, 45, 'CANDIDATEVARIABLE'], [49, 64, 'CANDIDATEVARIABLE'], [66, 77, 'CANDIDATEVARIABLE'], [116, 124, 'CANDIDATEVARIABLE'], [161, 165, 'CANDIDATEVARIABLE'], [171, 181, 'CANDIDATEVARIABLE'], [213, 228, 'CANDIDATEVARIABLE'], [242, 248, 'CANDIDATEVARIABLE'], [287, 293, 'CANDIDATEVARIABLE']]}]\n",
            "['The Blue Guards, after collecting plastics and discarded fishing nets from coastal waters and beaches, dispose of those materials by via the local plastic recycling system or by storing them in a safer place.\\r', {'entities': [[34, 42, 'CANDIDATEVARIABLE'], [57, 69, 'CANDIDATEVARIABLE'], [94, 101, 'CANDIDATEVARIABLE'], [147, 154, 'CANDIDATEVARIABLE']]}]\n",
            "['While French car parts maker Valeo said the direct impact on the company is minimal, the invasion could drag down industry production volumes, and hike energy or raw material prices.\\r', {'entities': [[13, 28, 'CANDIDATEVARIABLE'], [65, 72, 'CANDIDATEVARIABLE'], [114, 122, 'CANDIDATEVARIABLE'], [123, 133, 'CANDIDATEVARIABLE'], [134, 141, 'CANDIDATEVARIABLE'], [175, 181, 'CANDIDATEVARIABLE']]}]\n",
            "['Using data derived from customer comments, the AI creates profiles for each user and determines what socio-economic class they might belong to based on the regular pricing options of their availed services.\\r', {'entities': [[24, 41, 'CANDIDATEVARIABLE'], [58, 66, 'CANDIDATEVARIABLE'], [76, 80, 'CANDIDATEVARIABLE'], [116, 121, 'CANDIDATEVARIABLE'], [164, 171, 'CANDIDATEVARIABLE'], [172, 179, 'CANDIDATEVARIABLE']]}]\n",
            "[\"At the same time, employees who already struggle with feelings of ostracisation may feel worse. For the managers, lack of information and communication from their subordinates can make them feel like they're losing control.\\r\", {'entities': [[12, 16, 'CANDIDATEVARIABLE'], [18, 27, 'CANDIDATEVARIABLE'], [54, 62, 'CANDIDATEVARIABLE'], [84, 88, 'CANDIDATEVARIABLE'], [104, 112, 'CANDIDATEVARIABLE'], [122, 133, 'CANDIDATEVARIABLE'], [138, 151, 'CANDIDATEVARIABLE'], [163, 175, 'CANDIDATEVARIABLE'], [190, 194, 'CANDIDATEVARIABLE']]}]\n",
            "[\"A company is built by its people. Therefore, it is integral to ask their opinion if they're ready to embrace this change. Much weight has to be given to HR too. Surveys, polls, and honest communication are necessary before implementing any strategy.\\r\", {'entities': [[2, 9, 'CANDIDATEVARIABLE'], [26, 33, 'CANDIDATEVARIABLE'], [73, 80, 'CANDIDATEVARIABLE'], [127, 133, 'CANDIDATEVARIABLE'], [161, 168, 'CANDIDATEVARIABLE'], [170, 175, 'CANDIDATEVARIABLE'], [240, 248, 'CANDIDATEVARIABLE']]}]\n",
            "['The museum allows visitors to have an immersive experience as they venture through the heritage sites of Bangladesh with virtual reality headsets and computers from the comfort of their homes.', {'entities': [[4, 10, 'CANDIDATEVARIABLE'], [18, 26, 'CANDIDATEVARIABLE'], [87, 101, 'CANDIDATEVARIABLE'], [137, 145, 'CANDIDATEVARIABLE'], [150, 159, 'CANDIDATEVARIABLE'], [186, 191, 'CANDIDATEVARIABLE']]}]\n",
            "['O', 'O', 'O', 'CANDIDATEVARIABLE', 'O', 'O', 'O', 'CANDIDATEVARIABLE', 'O', 'O', 'O', 'CANDIDATEVARIABLE', 'O', 'O', 'O', 'O', 'O', 'CANDIDATEVARIABLE', 'O', 'O', 'O', 'CANDIDATEVARIABLE', 'O', 'O', 'O', 'CANDIDATEVARIABLE', 'O', 'O', 'O', 'O', 'O', 'O', 'CANDIDATEVARIABLE', 'O', 'CANDIDATEVARIABLE', 'O', 'O', 'CANDIDATEVARIABLE', 'O', 'O', 'O', 'O', 'O', 'O', 'O', 'O', 'O', 'O', 'O', 'O', 'O', 'O', 'O', 'O', 'CANDIDATEVARIABLE', 'O', 'O', 'O', 'O', 'CANDIDATEVARIABLE', 'O', 'O', 'O', 'CANDIDATEVARIABLE', 'O', 'O', 'O', 'O', 'O', 'O', 'O', 'O', 'O', 'O', 'O', 'O', 'O', 'O', 'O', 'O', 'O', 'O', 'O', 'CANDIDATEVARIABLE', 'O', 'CANDIDATEVARIABLE', 'O', 'O', 'O', 'O', 'O', 'O', 'O', 'O', 'O', 'O', 'CANDIDATEVARIABLE', 'O', 'O', 'CANDIDATEVARIABLE', 'O', 'O', 'O', 'O', 'O', 'O', 'CANDIDATEVARIABLE', 'CANDIDATEVARIABLE', 'CANDIDATEVARIABLE', 'O', 'O', 'O', 'O', 'O', 'O', 'O', 'O', 'O', 'O', 'CANDIDATEVARIABLE', 'O', 'O', 'O', 'O', 'O', 'O', 'O', 'CANDIDATEVARIABLE', 'O', 'O', 'O', 'O', 'O', 'O', 'O', 'O', 'O', 'O', 'O', 'O', 'O', 'CANDIDATEVARIABLE', 'CANDIDATEVARIABLE', 'O', 'CANDIDATEVARIABLE', 'O', 'O', 'O', 'O', 'CANDIDATEVARIABLE', 'CANDIDATEVARIABLE', 'O', 'O', 'O', 'O', 'O', 'CANDIDATEVARIABLE', 'O', 'CANDIDATEVARIABLE', 'O', 'O', 'O', 'O', 'CANDIDATEVARIABLE', 'O', 'O', 'O', 'O', 'O', 'O', 'O', 'O', 'O', 'O', 'O', 'O', 'CANDIDATEVARIABLE', 'CANDIDATEVARIABLE', 'O', 'CANDIDATEVARIABLE', 'O', 'O', 'O', 'O', 'O', 'O', 'O', 'O', 'O', 'CANDIDATEVARIABLE', 'O', 'O', 'O', 'CANDIDATEVARIABLE', 'O', 'O', 'O', 'O', 'O', 'O', 'O', 'O', 'O', 'O', 'O', 'O', 'O', 'CANDIDATEVARIABLE', 'O', 'O', 'O', 'O', 'O', 'O', 'O', 'O', 'O', 'O', 'O', 'O', 'O', 'O', 'O', 'O', 'CANDIDATEVARIABLE', 'CANDIDATEVARIABLE', 'O', 'CANDIDATEVARIABLE', 'O', 'CANDIDATEVARIABLE', 'CANDIDATEVARIABLE', 'O', 'O', 'O', 'CANDIDATEVARIABLE', 'O', 'O', 'O', 'O', 'CANDIDATEVARIABLE', 'CANDIDATEVARIABLE', 'O', 'O', 'O', 'O', 'O', 'O', 'O', 'O', 'O', 'O', 'O', 'O', 'O', 'O', 'O', 'O', 'O', 'O', 'O', 'O', 'O', 'O', 'O', 'O', 'CANDIDATEVARIABLE', 'O', 'O', 'CANDIDATEVARIABLE', 'O', 'O', 'O', 'CANDIDATEVARIABLE', 'O', 'CANDIDATEVARIABLE', 'O', 'O', 'O', 'O', 'O', 'O', 'O', 'O', 'O', 'O', 'O', 'O', 'O', 'CANDIDATEVARIABLE', 'CANDIDATEVARIABLE', 'CANDIDATEVARIABLE', 'O', 'O', 'O', 'O', 'O', 'O', 'O', 'O', 'O', 'CANDIDATEVARIABLE', 'O', 'CANDIDATEVARIABLE', 'O', 'O', 'O', 'CANDIDATEVARIABLE', 'O', 'O', 'O', 'CANDIDATEVARIABLE', 'O', 'O', 'O', 'O', 'CANDIDATEVARIABLE', 'O', 'CANDIDATEVARIABLE', 'O', 'O', 'O', 'O', 'O', 'O', 'CANDIDATEVARIABLE', 'O', 'CANDIDATEVARIABLE', 'O', 'O', 'O', 'O', 'O', 'O', 'O', 'O', 'O', 'CANDIDATEVARIABLE', 'O', 'CANDIDATEVARIABLE', 'O', 'O', 'O', 'O', 'O', 'O', 'O', 'O', 'CANDIDATEVARIABLE', 'O', 'O', 'O', 'O', 'O', 'O', 'O', 'O', 'O', 'O', 'CANDIDATEVARIABLE', 'O', 'O', 'O', 'CANDIDATEVARIABLE', 'O', 'O', 'O', 'O', 'O', 'O', 'CANDIDATEVARIABLE', 'CANDIDATEVARIABLE', 'O', 'O', 'CANDIDATEVARIABLE', 'O', 'O', 'O', 'O', 'O', 'O', 'O', 'O', 'O', 'O', 'O', 'O', 'O', 'O', 'O', 'CANDIDATEVARIABLE', 'CANDIDATEVARIABLE', 'O', 'O', 'O', 'CANDIDATEVARIABLE', 'O', 'O', 'O', 'O', 'O', 'O', 'CANDIDATEVARIABLE', 'CANDIDATEVARIABLE', 'O', 'CANDIDATEVARIABLE', 'O', 'O', 'O', 'O', 'O', 'O', 'O', 'O', 'O', 'O', 'O', 'O', 'O', 'O', 'O', 'O', 'O', 'CANDIDATEVARIABLE', 'O', 'O', 'O', 'O', 'O', 'O', 'O', 'O', 'O', 'O', 'O', 'O', 'O', 'O', 'O', 'CANDIDATEVARIABLE', 'O', 'CANDIDATEVARIABLE', 'CANDIDATEVARIABLE', 'O', 'O', 'CANDIDATEVARIABLE', 'O', 'CANDIDATEVARIABLE', 'CANDIDATEVARIABLE', 'O', 'O', 'O', 'O', 'O', 'O', 'O', 'O', 'O', 'O', 'O', 'O', 'O', 'O', 'O', 'O', 'CANDIDATEVARIABLE', 'O', 'O', 'O', 'O', 'O', 'O', 'O', 'O', 'O', 'O', 'O', 'CANDIDATEVARIABLE', 'O', 'O', 'O', 'O', 'O', 'O', 'O', 'O', 'O', 'O', 'O', 'O', 'O', 'O', 'O', 'CANDIDATEVARIABLE', 'O', 'O', 'O', 'O', 'CANDIDATEVARIABLE', 'O', 'O', 'CANDIDATEVARIABLE', 'O', 'O', 'O', 'O', 'O', 'O', 'O', 'O', 'O', 'O', 'O', 'O', 'O', 'O', 'O', 'O', 'O', 'O', 'O', 'O', 'CANDIDATEVARIABLE', 'O', 'O', 'O', 'O', 'O', 'O', 'O', 'O', 'O', 'O', 'CANDIDATEVARIABLE', 'O', 'O', 'O', 'O', 'O', 'CANDIDATEVARIABLE', 'O', 'O', 'O', 'O', 'O', 'O', 'O', 'O', 'CANDIDATEVARIABLE', 'O', 'O', 'O', 'CANDIDATEVARIABLE', 'O', 'O', 'O', 'O', 'O', 'CANDIDATEVARIABLE', 'O', 'CANDIDATEVARIABLE', 'CANDIDATEVARIABLE', 'O', 'CANDIDATEVARIABLE', 'O', 'O', 'O', 'O', 'O', 'O', 'CANDIDATEVARIABLE', 'O', 'O', 'O', 'O', 'O', 'O', 'CANDIDATEVARIABLE', 'O', 'O', 'CANDIDATEVARIABLE', 'O', 'O', 'O', 'O', 'O', 'O', 'O', 'O', 'CANDIDATEVARIABLE', 'CANDIDATEVARIABLE', 'O', 'O', 'O', 'O', 'CANDIDATEVARIABLE', 'O', 'O', 'O', 'O', 'O', 'O', 'O', 'O', 'CANDIDATEVARIABLE', 'O', 'O', 'O', 'O', 'O', 'O', 'O', 'O', 'O', 'O', 'CANDIDATEVARIABLE', 'O', 'O', 'CANDIDATEVARIABLE', 'CANDIDATEVARIABLE', 'O', 'O', 'O', 'O', 'CANDIDATEVARIABLE', 'O', 'O', 'O', 'O', 'O', 'O', 'O', 'O', 'O', 'CANDIDATEVARIABLE', 'O', 'O', 'O', 'O', 'O', 'O', 'O', 'O', 'O', 'O', 'O', 'O', 'O', 'O', 'CANDIDATEVARIABLE', 'CANDIDATEVARIABLE', 'CANDIDATEVARIABLE', 'O', 'O', 'O', 'O', 'O', 'O', 'O', 'CANDIDATEVARIABLE', 'O', 'O', 'O', 'O', 'O', 'O', 'O', 'O', 'CANDIDATEVARIABLE', 'CANDIDATEVARIABLE', 'CANDIDATEVARIABLE', 'O', 'O', 'O', 'O', 'O', 'O', 'O', 'CANDIDATEVARIABLE', 'O', 'O', 'O', 'O', 'O', 'O', 'CANDIDATEVARIABLE', 'CANDIDATEVARIABLE', 'O', 'O', 'O', 'O', 'CANDIDATEVARIABLE', 'O', 'O', 'CANDIDATEVARIABLE', 'O', 'O', 'O', 'O', 'O', 'O', 'CANDIDATEVARIABLE', 'O', 'O', 'O', 'O', 'O', 'O', 'O', 'O', 'CANDIDATEVARIABLE', 'CANDIDATEVARIABLE', 'O', 'O', 'O', 'O', 'O', 'O', 'O', 'O', 'O', 'CANDIDATEVARIABLE', 'O', 'CANDIDATEVARIABLE', 'O', 'O', 'O', 'O', 'CANDIDATEVARIABLE', 'O', 'O', 'O', 'CANDIDATEVARIABLE', 'O', 'O', 'O', 'O', 'CANDIDATEVARIABLE', 'O', 'O', 'O', 'CANDIDATEVARIABLE', 'O', 'CANDIDATEVARIABLE', 'O', 'O', 'CANDIDATEVARIABLE', 'O', 'O', 'O', 'CANDIDATEVARIABLE', 'O', 'O', 'O', 'O', 'O', 'O', 'O', 'O', 'CANDIDATEVARIABLE', 'O', 'O', 'O', 'O', 'CANDIDATEVARIABLE', 'CANDIDATEVARIABLE', 'O', 'O', 'O', 'O', 'O', 'O', 'O', 'O', 'CANDIDATEVARIABLE', 'O', 'O', 'O', 'O', 'O', 'O', 'O', 'O', 'O', 'O', 'CANDIDATEVARIABLE', 'O', 'O', 'O', 'O', 'O', 'O', 'O', 'O', 'CANDIDATEVARIABLE', 'O', 'CANDIDATEVARIABLE', 'O', 'O', 'O', 'O', 'O', 'O', 'O', 'O', 'O', 'CANDIDATEVARIABLE', 'O', 'O', 'O', 'CANDIDATEVARIABLE', 'O', 'CANDIDATEVARIABLE', 'O', 'O', 'O', 'O', 'O', 'O', 'O', 'O', 'O', 'O', 'CANDIDATEVARIABLE', 'CANDIDATEVARIABLE', 'O', 'O', 'O', 'O', 'O', 'CANDIDATEVARIABLE', 'O', 'CANDIDATEVARIABLE', 'O', 'O', 'O', 'O', 'O', 'CANDIDATEVARIABLE', 'O']\n",
            "['O', 'O', 'O', 'O', 'O', 'O', 'O', 'O', 'O', 'O', 'O', 'O', 'O', 'O', 'O', 'O', 'O', 'O', 'O', 'O', 'O', 'O', 'O', 'O', 'O', 'O', 'O', 'O', 'O', 'O', 'O', 'O', 'O', 'O', 'O', 'O', 'O', 'O', 'O', 'O', 'O', 'O', 'CANDIDATEVARIABLE', 'CANDIDATEVARIABLE', 'O', 'O', 'O', 'O', 'O', 'O', 'O', 'O', 'O', 'CANDIDATEVARIABLE', 'O', 'O', 'O', 'O', 'O', 'O', 'O', 'O', 'CANDIDATEVARIABLE', 'CANDIDATEVARIABLE', 'CANDIDATEVARIABLE', 'O', 'CANDIDATEVARIABLE', 'O', 'O', 'O', 'O', 'O', 'O', 'O', 'CANDIDATEVARIABLE', 'O', 'O', 'CANDIDATEVARIABLE', 'O', 'O', 'CANDIDATEVARIABLE', 'O', 'O', 'O', 'O', 'O', 'O', 'CANDIDATEVARIABLE', 'CANDIDATEVARIABLE', 'CANDIDATEVARIABLE', 'CANDIDATEVARIABLE', 'O', 'O', 'O', 'O', 'O', 'O', 'O', 'O', 'O', 'O', 'O', 'O', 'O', 'O', 'CANDIDATEVARIABLE', 'CANDIDATEVARIABLE', 'O', 'O', 'O', 'O', 'O', 'O', 'CANDIDATEVARIABLE', 'O', 'O', 'O', 'O', 'O', 'O', 'O', 'O', 'O', 'CANDIDATEVARIABLE', 'O', 'O', 'O', 'O', 'O', 'CANDIDATEVARIABLE', 'CANDIDATEVARIABLE', 'O', 'O', 'O', 'CANDIDATEVARIABLE', 'O', 'O', 'CANDIDATEVARIABLE', 'CANDIDATEVARIABLE', 'O', 'O', 'O', 'O', 'O', 'O', 'O', 'CANDIDATEVARIABLE', 'O', 'O', 'O', 'O', 'O', 'O', 'O', 'CANDIDATEVARIABLE', 'O', 'O', 'O', 'O', 'O', 'O', 'O', 'CANDIDATEVARIABLE', 'O', 'O', 'O', 'O', 'O', 'O', 'O', 'O', 'O', 'O', 'O', 'O', 'O', 'O', 'O', 'O', 'O', 'O', 'O', 'O', 'CANDIDATEVARIABLE', 'O', 'O', 'O', 'O', 'CANDIDATEVARIABLE', 'O', 'O', 'O', 'O', 'O', 'O', 'O', 'O', 'O', 'O', 'O', 'O', 'O', 'CANDIDATEVARIABLE', 'O', 'O', 'O', 'CANDIDATEVARIABLE', 'O', 'O', 'O', 'O', 'O', 'O', 'CANDIDATEVARIABLE', 'O', 'O', 'O', 'O', 'O', 'O', 'O', 'O', 'O', 'O', 'O', 'O', 'O', 'CANDIDATEVARIABLE', 'O', 'O', 'O', 'O', 'O', 'O', 'CANDIDATEVARIABLE', 'O', 'CANDIDATEVARIABLE', 'O', 'O', 'O', 'CANDIDATEVARIABLE', 'O', 'O', 'O', 'O', 'O', 'O', 'CANDIDATEVARIABLE', 'O', 'CANDIDATEVARIABLE', 'O', 'O', 'CANDIDATEVARIABLE', 'O', 'O', 'O', 'O', 'O', 'O', 'O', 'O', 'CANDIDATEVARIABLE', 'O', 'O', 'O', 'O', 'O', 'O', 'O', 'O', 'O', 'O', 'O', 'O', 'O', 'O', 'O', 'O', 'O', 'O', 'O', 'CANDIDATEVARIABLE', 'O', 'O', 'O', 'O', 'O', 'O', 'CANDIDATEVARIABLE', 'CANDIDATEVARIABLE', 'O', 'O', 'O', 'O', 'O', 'O', 'O', 'O', 'O', 'CANDIDATEVARIABLE', 'O', 'O', 'O', 'O', 'O', 'CANDIDATEVARIABLE', 'O', 'O', 'O', 'O', 'O', 'O', 'O', 'O', 'O', 'O', 'O', 'O', 'O', 'O', 'O', 'CANDIDATEVARIABLE', 'O', 'CANDIDATEVARIABLE', 'O', 'O', 'O', 'O', 'O', 'O', 'O', 'O', 'O', 'O', 'O', 'O', 'O', 'O', 'CANDIDATEVARIABLE', 'O', 'O', 'O', 'O', 'O', 'O', 'O', 'O', 'O', 'O', 'O', 'CANDIDATEVARIABLE', 'O', 'CANDIDATEVARIABLE', 'O', 'O', 'O', 'O', 'O', 'O', 'O', 'O', 'O', 'O', 'O', 'O', 'O', 'O', 'O', 'O', 'O', 'O', 'O', 'O', 'O', 'O', 'O', 'O', 'O', 'O', 'O', 'O', 'O', 'O', 'O', 'O', 'CANDIDATEVARIABLE', 'O', 'O', 'O', 'O', 'O', 'O', 'O', 'O', 'CANDIDATEVARIABLE', 'O', 'O', 'O', 'O', 'O', 'O', 'O', 'O', 'O', 'O', 'O', 'O', 'O', 'O', 'O', 'O', 'O', 'O', 'CANDIDATEVARIABLE', 'O', 'O', 'O', 'O', 'O', 'O', 'O', 'O', 'CANDIDATEVARIABLE', 'O', 'O', 'O', 'O', 'O', 'CANDIDATEVARIABLE', 'CANDIDATEVARIABLE', 'O', 'O', 'O', 'O', 'O', 'O', 'O', 'O', 'O', 'O', 'O', 'O', 'O', 'O', 'O', 'O', 'CANDIDATEVARIABLE', 'O', 'O', 'O', 'CANDIDATEVARIABLE', 'O', 'O', 'O', 'O', 'O', 'O', 'O', 'O', 'O', 'O', 'O', 'O', 'O', 'O', 'O', 'O', 'O', 'O', 'O', 'O', 'O', 'CANDIDATEVARIABLE', 'O', 'O', 'O', 'O', 'O', 'O', 'O', 'O', 'O', 'CANDIDATEVARIABLE', 'O', 'O', 'O', 'O', 'O', 'O', 'O', 'O', 'O', 'O', 'O', 'O', 'O', 'O', 'CANDIDATEVARIABLE', 'O', 'O', 'CANDIDATEVARIABLE', 'O', 'O', 'O', 'O', 'O', 'O', 'O', 'O', 'O', 'O', 'O', 'O', 'O', 'O', 'O', 'O', 'O', 'O', 'O', 'O', 'O', 'O', 'O', 'O', 'O', 'O', 'O', 'O', 'O', 'O', 'O', 'O', 'O', 'O', 'O', 'O', 'O', 'CANDIDATEVARIABLE', 'O', 'O', 'O', 'O', 'O', 'O', 'O', 'O', 'O', 'O', 'O', 'O', 'O', 'O', 'O', 'O', 'O', 'CANDIDATEVARIABLE', 'CANDIDATEVARIABLE', 'O', 'O', 'O', 'O', 'CANDIDATEVARIABLE', 'O', 'O', 'O', 'O', 'O', 'O', 'O', 'O', 'O', 'O', 'O', 'O', 'CANDIDATEVARIABLE', 'O', 'O', 'O', 'CANDIDATEVARIABLE', 'O', 'CANDIDATEVARIABLE', 'O', 'CANDIDATEVARIABLE', 'O', 'CANDIDATEVARIABLE', 'O', 'O', 'O', 'O', 'O', 'O', 'O', 'O', 'O', 'O', 'O', 'O', 'O', 'O', 'O', 'O', 'O', 'O', 'O', 'O', 'O', 'O', 'O', 'CANDIDATEVARIABLE', 'CANDIDATEVARIABLE', 'O', 'O', 'O', 'O', 'O', 'CANDIDATEVARIABLE', 'CANDIDATEVARIABLE', 'O', 'O', 'O', 'O', 'O', 'O', 'O', 'CANDIDATEVARIABLE', 'O', 'O', 'O', 'O', 'O', 'O', 'O', 'O', 'O', 'CANDIDATEVARIABLE', 'O', 'O', 'O', 'O', 'O', 'O', 'CANDIDATEVARIABLE', 'O', 'O', 'O', 'O', 'O', 'O', 'O', 'O', 'O', 'O', 'O', 'CANDIDATEVARIABLE', 'O', 'O', 'O', 'O', 'O', 'O', 'O', 'O', 'O', 'O', 'O', 'CANDIDATEVARIABLE', 'O', 'CANDIDATEVARIABLE', 'O', 'O', 'O', 'O', 'O', 'O', 'O', 'O', 'O', 'O', 'O', 'CANDIDATEVARIABLE', 'CANDIDATEVARIABLE', 'O', 'O', 'O', 'O', 'O', 'O', 'CANDIDATEVARIABLE', 'O', 'O', 'O', 'O', 'O', 'O', 'O', 'O', 'O', 'O', 'O', 'O', 'O', 'O', 'O', 'O', 'O', 'O', 'O', 'CANDIDATEVARIABLE', 'O', 'O', 'O', 'O', 'CANDIDATEVARIABLE', 'O', 'O', 'O', 'O', 'O', 'O', 'O', 'O', 'O', 'O', 'O', 'O', 'O', 'O', 'O', 'O', 'O', 'O', 'O', 'O', 'O', 'O', 'CANDIDATEVARIABLE', 'O', 'O', 'O', 'CANDIDATEVARIABLE', 'O', 'O', 'O', 'O', 'O', 'O', 'O', 'O', 'O', 'O', 'O', 'O', 'O', 'O', 'O', 'O', 'O', 'O', 'O', 'O', 'O', 'O', 'O', 'O', 'O', 'O', 'O', 'O', 'O', 'O', 'O', 'O', 'O', 'O', 'O', 'O', 'O', 'O', 'O', 'O', 'O', 'O', 'O', 'O', 'O', 'O', 'O', 'O', 'O', 'O', 'O', 'O', 'O', 'O', 'O', 'O', 'O', 'O', 'O', 'O', 'CANDIDATEVARIABLE', 'O', 'O', 'O', 'O', 'O', 'O', 'O', 'CANDIDATEVARIABLE', 'O', 'O', 'O', 'O', 'O', 'O', 'O', 'O', 'O', 'O', 'O', 'O', 'CANDIDATEVARIABLE', 'O', 'O', 'O', 'O', 'O', 'O', 'O', 'O', 'CANDIDATEVARIABLE', 'O', 'O', 'O', 'O', 'O', 'CANDIDATEVARIABLE', 'O']\n",
            "ACCURACY: 77.83075089392133%\n"
          ]
        },
        {
          "output_type": "execute_result",
          "data": {
            "text/plain": [
              "(array([[ 25, 119],\n",
              "        [ 67, 628]]),\n",
              " <matplotlib.axes._subplots.AxesSubplot at 0x7f960e6d9750>,\n",
              " <module 'matplotlib.pyplot' from '/usr/local/lib/python3.7/dist-packages/matplotlib/pyplot.py'>)"
            ]
          },
          "metadata": {},
          "execution_count": 22
        },
        {
          "output_type": "display_data",
          "data": {
            "text/plain": [
              "<Figure size 432x288 with 2 Axes>"
            ],
            "image/png": "[encoded data removed]"
          },
          "metadata": {
            "needs_background": "light"
          }
        }
      ]
    },
    {
      "cell_type": "markdown",
      "source": [
        ""
      ],
      "metadata": {
        "id": "jB2sGHFz1l37"
      }
    }
  ]
}